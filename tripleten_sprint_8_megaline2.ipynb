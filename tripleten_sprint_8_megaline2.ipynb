{
 "cells": [
  {
   "cell_type": "markdown",
   "metadata": {},
   "source": [
    "# Proyecto Sprint 8 - Introducción al machine learning\n",
    "***\n",
    "\n",
    "La empresa de telefonía móvil **Megaline** no está satisfecha al ver que muchos de sus clientes utilizan planes heredados. Quieren desarrollar un modelo que pueda analizar el comportamiento del cliente y recomendar uno de los nuevos planes de Megaline: **Smart** o **Ultra**.\n",
    "\n",
    "Para este proyecto, tenemos acceso a los datos de comportamiento de los suscriptores que ya cambiaron a nuevos planes. Para esta **tarea de clasificación**, debemos crear un **modelo** que elija el plan correcto. Como ya ha dado el paso de procesar los datos, puede pasar directamente a crear el modelo.\n",
    "\n",
    "Desarrollaremos un modelo con la mayor precisión posible. En este proyecto, **el umbral de precisión es 0,75**. Usaremos el conjunto de datos para verificar la precisión."
   ]
  },
  {
   "cell_type": "markdown",
   "metadata": {},
   "source": [
    "## Instrucciones del proyecto\n",
    "***\n",
    "Para este proyecto estaremos trabajando con los siguientes puntos:\n",
    "\n",
    "1. Abre y examina el archivo de datos. Dirección al archivo: <code style=\"background:grey;color:black\">datasets/users_behavior.csv.</code>\n",
    "2. Segmenta los datos fuente en un conjunto de entrenamiento, uno de validación y uno de prueba.\n",
    "3. Investiga la calidad de diferentes modelos cambiando los hiperparámetros. Describe brevemente los hallazgos del estudio.\n",
    "4. Comprueba la calidad del modelo usando el conjunto de prueba.\n",
    "5. Tarea adicional: haz una prueba de cordura al modelo. Estos datos son más complejos que los que habías usado antes así que no será una tarea fácil. Más adelante lo veremos con más detalle."
   ]
  },
  {
   "cell_type": "markdown",
   "metadata": {},
   "source": [
    "## Abre y examina el archivo de datos\n",
    "***"
   ]
  },
  {
   "cell_type": "markdown",
   "metadata": {},
   "source": [
    "### importar bibliotecas"
   ]
  },
  {
   "cell_type": "code",
   "execution_count": 1,
   "metadata": {},
   "outputs": [],
   "source": [
    "# Importar bibliotecas\n",
    "import pandas as pd\n",
    "from sklearn.tree import DecisionTreeClassifier\n",
    "from sklearn.metrics import accuracy_score\n",
    "from sklearn.model_selection import train_test_split\n",
    "from sklearn.linear_model import LogisticRegression\n",
    "from sklearn.ensemble import RandomForestClassifier\n",
    "from sklearn.preprocessing import StandardScaler\n",
    "from sklearn.model_selection import RandomizedSearchCV\n",
    "import numpy as np"
   ]
  },
  {
   "cell_type": "markdown",
   "metadata": {},
   "source": [
    "### subir archivos"
   ]
  },
  {
   "cell_type": "code",
   "execution_count": 2,
   "metadata": {
    "scrolled": true
   },
   "outputs": [],
   "source": [
    "# Laod Archive\n",
    "df = pd.read_csv('/datasets/users_behavior.csv')"
   ]
  },
  {
   "cell_type": "markdown",
   "metadata": {},
   "source": [
    "### Examinar DataFrame"
   ]
  },
  {
   "cell_type": "code",
   "execution_count": 3,
   "metadata": {},
   "outputs": [
    {
     "data": {
      "text/html": [
       "<div>\n",
       "<style scoped>\n",
       "    .dataframe tbody tr th:only-of-type {\n",
       "        vertical-align: middle;\n",
       "    }\n",
       "\n",
       "    .dataframe tbody tr th {\n",
       "        vertical-align: top;\n",
       "    }\n",
       "\n",
       "    .dataframe thead th {\n",
       "        text-align: right;\n",
       "    }\n",
       "</style>\n",
       "<table border=\"1\" class=\"dataframe\">\n",
       "  <thead>\n",
       "    <tr style=\"text-align: right;\">\n",
       "      <th></th>\n",
       "      <th>calls</th>\n",
       "      <th>minutes</th>\n",
       "      <th>messages</th>\n",
       "      <th>mb_used</th>\n",
       "      <th>is_ultra</th>\n",
       "    </tr>\n",
       "  </thead>\n",
       "  <tbody>\n",
       "    <tr>\n",
       "      <th>0</th>\n",
       "      <td>40.0</td>\n",
       "      <td>311.90</td>\n",
       "      <td>83.0</td>\n",
       "      <td>19915.42</td>\n",
       "      <td>0</td>\n",
       "    </tr>\n",
       "    <tr>\n",
       "      <th>1</th>\n",
       "      <td>85.0</td>\n",
       "      <td>516.75</td>\n",
       "      <td>56.0</td>\n",
       "      <td>22696.96</td>\n",
       "      <td>0</td>\n",
       "    </tr>\n",
       "    <tr>\n",
       "      <th>2</th>\n",
       "      <td>77.0</td>\n",
       "      <td>467.66</td>\n",
       "      <td>86.0</td>\n",
       "      <td>21060.45</td>\n",
       "      <td>0</td>\n",
       "    </tr>\n",
       "    <tr>\n",
       "      <th>3</th>\n",
       "      <td>106.0</td>\n",
       "      <td>745.53</td>\n",
       "      <td>81.0</td>\n",
       "      <td>8437.39</td>\n",
       "      <td>1</td>\n",
       "    </tr>\n",
       "    <tr>\n",
       "      <th>4</th>\n",
       "      <td>66.0</td>\n",
       "      <td>418.74</td>\n",
       "      <td>1.0</td>\n",
       "      <td>14502.75</td>\n",
       "      <td>0</td>\n",
       "    </tr>\n",
       "  </tbody>\n",
       "</table>\n",
       "</div>"
      ],
      "text/plain": [
       "   calls  minutes  messages   mb_used  is_ultra\n",
       "0   40.0   311.90      83.0  19915.42         0\n",
       "1   85.0   516.75      56.0  22696.96         0\n",
       "2   77.0   467.66      86.0  21060.45         0\n",
       "3  106.0   745.53      81.0   8437.39         1\n",
       "4   66.0   418.74       1.0  14502.75         0"
      ]
     },
     "execution_count": 3,
     "metadata": {},
     "output_type": "execute_result"
    }
   ],
   "source": [
    "df.head()"
   ]
  },
  {
   "cell_type": "code",
   "execution_count": 4,
   "metadata": {},
   "outputs": [
    {
     "name": "stdout",
     "output_type": "stream",
     "text": [
      "(3214, 5)\n"
     ]
    },
    {
     "data": {
      "text/plain": [
       "calls       float64\n",
       "minutes     float64\n",
       "messages    float64\n",
       "mb_used     float64\n",
       "is_ultra      int64\n",
       "dtype: object"
      ]
     },
     "execution_count": 4,
     "metadata": {},
     "output_type": "execute_result"
    }
   ],
   "source": [
    "print(df.shape)\n",
    "df.dtypes"
   ]
  },
  {
   "cell_type": "code",
   "execution_count": 5,
   "metadata": {},
   "outputs": [
    {
     "data": {
      "text/html": [
       "<div>\n",
       "<style scoped>\n",
       "    .dataframe tbody tr th:only-of-type {\n",
       "        vertical-align: middle;\n",
       "    }\n",
       "\n",
       "    .dataframe tbody tr th {\n",
       "        vertical-align: top;\n",
       "    }\n",
       "\n",
       "    .dataframe thead th {\n",
       "        text-align: right;\n",
       "    }\n",
       "</style>\n",
       "<table border=\"1\" class=\"dataframe\">\n",
       "  <thead>\n",
       "    <tr style=\"text-align: right;\">\n",
       "      <th></th>\n",
       "      <th>calls</th>\n",
       "      <th>minutes</th>\n",
       "      <th>messages</th>\n",
       "      <th>mb_used</th>\n",
       "      <th>is_ultra</th>\n",
       "    </tr>\n",
       "  </thead>\n",
       "  <tbody>\n",
       "    <tr>\n",
       "      <th>count</th>\n",
       "      <td>3214.000000</td>\n",
       "      <td>3214.000000</td>\n",
       "      <td>3214.000000</td>\n",
       "      <td>3214.000000</td>\n",
       "      <td>3214.000000</td>\n",
       "    </tr>\n",
       "    <tr>\n",
       "      <th>mean</th>\n",
       "      <td>63.038892</td>\n",
       "      <td>438.208787</td>\n",
       "      <td>38.281269</td>\n",
       "      <td>17207.673836</td>\n",
       "      <td>0.306472</td>\n",
       "    </tr>\n",
       "    <tr>\n",
       "      <th>std</th>\n",
       "      <td>33.236368</td>\n",
       "      <td>234.569872</td>\n",
       "      <td>36.148326</td>\n",
       "      <td>7570.968246</td>\n",
       "      <td>0.461100</td>\n",
       "    </tr>\n",
       "    <tr>\n",
       "      <th>min</th>\n",
       "      <td>0.000000</td>\n",
       "      <td>0.000000</td>\n",
       "      <td>0.000000</td>\n",
       "      <td>0.000000</td>\n",
       "      <td>0.000000</td>\n",
       "    </tr>\n",
       "    <tr>\n",
       "      <th>25%</th>\n",
       "      <td>40.000000</td>\n",
       "      <td>274.575000</td>\n",
       "      <td>9.000000</td>\n",
       "      <td>12491.902500</td>\n",
       "      <td>0.000000</td>\n",
       "    </tr>\n",
       "    <tr>\n",
       "      <th>50%</th>\n",
       "      <td>62.000000</td>\n",
       "      <td>430.600000</td>\n",
       "      <td>30.000000</td>\n",
       "      <td>16943.235000</td>\n",
       "      <td>0.000000</td>\n",
       "    </tr>\n",
       "    <tr>\n",
       "      <th>75%</th>\n",
       "      <td>82.000000</td>\n",
       "      <td>571.927500</td>\n",
       "      <td>57.000000</td>\n",
       "      <td>21424.700000</td>\n",
       "      <td>1.000000</td>\n",
       "    </tr>\n",
       "    <tr>\n",
       "      <th>max</th>\n",
       "      <td>244.000000</td>\n",
       "      <td>1632.060000</td>\n",
       "      <td>224.000000</td>\n",
       "      <td>49745.730000</td>\n",
       "      <td>1.000000</td>\n",
       "    </tr>\n",
       "  </tbody>\n",
       "</table>\n",
       "</div>"
      ],
      "text/plain": [
       "             calls      minutes     messages       mb_used     is_ultra\n",
       "count  3214.000000  3214.000000  3214.000000   3214.000000  3214.000000\n",
       "mean     63.038892   438.208787    38.281269  17207.673836     0.306472\n",
       "std      33.236368   234.569872    36.148326   7570.968246     0.461100\n",
       "min       0.000000     0.000000     0.000000      0.000000     0.000000\n",
       "25%      40.000000   274.575000     9.000000  12491.902500     0.000000\n",
       "50%      62.000000   430.600000    30.000000  16943.235000     0.000000\n",
       "75%      82.000000   571.927500    57.000000  21424.700000     1.000000\n",
       "max     244.000000  1632.060000   224.000000  49745.730000     1.000000"
      ]
     },
     "execution_count": 5,
     "metadata": {},
     "output_type": "execute_result"
    }
   ],
   "source": [
    "df.describe()"
   ]
  },
  {
   "cell_type": "code",
   "execution_count": 6,
   "metadata": {},
   "outputs": [
    {
     "name": "stdout",
     "output_type": "stream",
     "text": [
      "<class 'pandas.core.frame.DataFrame'>\n",
      "RangeIndex: 3214 entries, 0 to 3213\n",
      "Data columns (total 5 columns):\n",
      " #   Column    Non-Null Count  Dtype  \n",
      "---  ------    --------------  -----  \n",
      " 0   calls     3214 non-null   float64\n",
      " 1   minutes   3214 non-null   float64\n",
      " 2   messages  3214 non-null   float64\n",
      " 3   mb_used   3214 non-null   float64\n",
      " 4   is_ultra  3214 non-null   int64  \n",
      "dtypes: float64(4), int64(1)\n",
      "memory usage: 125.7 KB\n"
     ]
    }
   ],
   "source": [
    "df.info()"
   ]
  },
  {
   "cell_type": "markdown",
   "metadata": {},
   "source": [
    "#### Descripción y observaciones del DataFrame."
   ]
  },
  {
   "cell_type": "markdown",
   "metadata": {},
   "source": [
    "Cada observación en el dataset contiene información del comportamiento mensual sobre un usuario. La información dada es la siguiente:\n",
    "\n",
    "<code style=\"background:grey;color:black\">сalls</code> — número de llamadas\n",
    "<br>\n",
    "<code style=\"background:grey;color:black\">minutes</code> — duración total de la llamada en minutos\n",
    "<br>\n",
    "<code style=\"background:grey;color:black\">messages</code> — número de mensajes de texto\n",
    "<br>\n",
    "<code style=\"background:grey;color:black\">mb_used</code> — Tráfico de Internet utilizado en MB\n",
    "<br>\n",
    "<code style=\"background:grey;color:black\">is_ultra</code> — plan para el mes actual (Ultra - 1, Smart - 0)"
   ]
  },
  {
   "cell_type": "markdown",
   "metadata": {},
   "source": [
    "Hay un total de 3.214 observaciones.\n",
    "\n",
    "De media, los usuarios realizan 63 llamadas al mes con una duración total de 438 minutos. Envían una media de 38 mensajes y consumen unos 17.207 MB de datos.\n",
    "\n",
    "El 30,6% de los usuarios tiene el plan Ultra (is_ultra = 1) y el 69,4% de los usuarios tiene el plan Smart (is_ultra = 0)\n",
    " \n",
    "Nuestros datos están en orden y no tienen problemas que resolver, ahora en la siguiente sección comenzaremos con el proceso de desarrollo de nuestro modelo entrenado."
   ]
  },
  {
   "cell_type": "markdown",
   "metadata": {},
   "source": [
    "## Segmentación de datos\n",
    "***"
   ]
  },
  {
   "cell_type": "markdown",
   "metadata": {},
   "source": [
    "El conjunto de datos de validación se separa del conjunto de datos de origen antes de entrenar el modelo. De lo contrario, el modelo conocerá las respuestas después de aprender del conjunto de entrenamiento. La validación muestra cómo actúan los modelos en el campo y ayuda a revelar el sobreajuste. En esta tarea, el conjunto de prueba no existe. En ese caso, los datos de origen deben dividirse en tres partes: entrenamiento, validación y prueba. Los tamaños del conjunto de validación y del conjunto de prueba suelen ser iguales. Nos proporciona datos de origen divididos en una proporción de 3:1:1. Además, agregué el parámetro estratificar a train_test_split para mezclar los datos antes de dividirlos."
   ]
  },
  {
   "cell_type": "code",
   "execution_count": 7,
   "metadata": {},
   "outputs": [
    {
     "data": {
      "text/plain": [
       "((1928, 5), (643, 5), (643, 5))"
      ]
     },
     "execution_count": 7,
     "metadata": {},
     "output_type": "execute_result"
    }
   ],
   "source": [
    "# Dividir el DataFrame en conjunto de entrenamiento (60%) y conjunto temporal (40%)\n",
    "df_train, df_test = train_test_split(df, test_size=0.4, random_state=42, stratify=df['is_ultra'])\n",
    "#df_train, df_test = train_test_split(df, test_size=0.4, random_state=12345)\n",
    "\n",
    "# Divida el conjunto temporal en validación (50%) y prueba (50%) para obtener el 20% de cada uno.\n",
    "df_valid, df_test = train_test_split(df_test, test_size=0.5, random_state=42, stratify=df_test['is_ultra'])\n",
    "#df_valid, df_test = train_test_split(df_test, test_size=0.5, random_state=12345)\n",
    "\n",
    "df_train.shape, df_valid.shape, df_test.shape"
   ]
  },
  {
   "cell_type": "markdown",
   "metadata": {},
   "source": [
    "He segmentado el DataFrame de la siguiente manera:\n",
    "\n",
    "**Entrenamiento**: 1928 observaciones.\n",
    "<br>\n",
    "**Validación**: 643 observaciones\n",
    "<br>\n",
    "**Prueba**: 643 observaciones"
   ]
  },
  {
   "cell_type": "markdown",
   "metadata": {},
   "source": [
    "## Investiga la calidad de diferentes modelos\n",
    "***"
   ]
  },
  {
   "cell_type": "markdown",
   "metadata": {},
   "source": [
    "A continuación voy a utilizar 3 modelos de Machine Learning buscando desarrollar un modelo que pueda analizar el comportamiento del cliente y recomendar uno de los nuevos planes de Megaline: Smart o Ultra. El umbral del modelo debe tener una **precisión de 0,75.**\n",
    "\n",
    "Para analizar los datos, tenemos 3 modelos, estos son:\n",
    "\n",
    "1. Logistic Regression: este es un modelo adecuado para problemas de clasificación binaria como el caso de Megaline.\n",
    "2. Decision Tree: los árboles de decisión son muy versátiles y pueden resultar útiles en este tipo de problemas.\n",
    "3. Random Forest: es una extensión del árbol de decisión que construye varios árboles y los combina para obtener una predicción más precisa y sólida."
   ]
  },
  {
   "cell_type": "code",
   "execution_count": 8,
   "metadata": {
    "scrolled": true
   },
   "outputs": [
    {
     "data": {
      "text/plain": [
       "{'Logistic Regression': 0.7045101088646968,\n",
       " 'Decision Tree': 0.7465007776049767,\n",
       " 'Random Forest': 0.8009331259720062}"
      ]
     },
     "execution_count": 8,
     "metadata": {},
     "output_type": "execute_result"
    }
   ],
   "source": [
    "# Separar las características y etiquetas\n",
    "X_train = df_train.drop('is_ultra', axis=1)\n",
    "y_train = df_train['is_ultra']\n",
    "\n",
    "X_valid = df_valid.drop('is_ultra', axis=1)\n",
    "y_valid = df_valid['is_ultra']\n",
    "\n",
    "# Inicializar modelos\n",
    "models = {\n",
    "    'Logistic Regression': LogisticRegression(max_iter=1000, random_state=42),\n",
    "    'Decision Tree': DecisionTreeClassifier(random_state=42),\n",
    "    'Random Forest': RandomForestClassifier(random_state=42)\n",
    "}\n",
    "\n",
    "# Entrenar y validar modelos\n",
    "accuracy_scores = {}\n",
    "\n",
    "for model_name, model in models.items():\n",
    "    # Entrenar modelo\n",
    "    model.fit(X_train, y_train)\n",
    "    y_pred = model.predict(X_valid)\n",
    "    \n",
    "    # Calcular la precisión\n",
    "    accuracy = accuracy_score(y_valid, y_pred)\n",
    "    accuracy_scores[model_name] = accuracy\n",
    "\n",
    "accuracy_scores"
   ]
  },
  {
   "cell_type": "markdown",
   "metadata": {},
   "source": [
    "**1. Logistic Regression:**\n",
    "Precisión: **(0.7045)** Este modelo no alcanzó el umbral deseado de (0,75). Aunque es adecuado para la clasificación binaria, puede requerir un ajuste más detallado de los hiperparámetros para mejorar su rendimiento.\n",
    "\n",
    "**2. Decision Tree:**\n",
    "Precisión: **(0.7465)** Se superó el umbral deseado. Los árboles de decisión son versátiles y pueden adaptarse bien a diferentes conjuntos de datos. Al igual que con la regresión logística, se benefició del ajuste de hiperparámetros.\n",
    "\n",
    "**3. Random Forest:**\n",
    "Precisión: **(0.8009)** Superó el umbral deseado y mostró un rendimiento superior en comparación con los demás modelos.\n",
    "\n",
    "**Hallazgos:**\n",
    "\n",
    "- Los modelos funcionaron razonablemente bien en el conjunto de validación.\n",
    "- La regresión logística y el árbol de decisión podrían mejorarse aún más ajustando sus hiperparámetros.\n",
    "- El Random Forest, con ajuste de hiperparámetros, mostró el mejor desempeño entre los modelos evaluados. Es posible que otros modelos o técnicas de preprocesamiento (como la normalización de datos) puedan mejorar aún más la precisión."
   ]
  },
  {
   "cell_type": "markdown",
   "metadata": {},
   "source": [
    "En un intento por mejorar el rendimiento de los modelos, los datos se **normalizarán** en la siguiente sección. Esto puede tener un efecto en aquellos modelos que son especialmente sensibles a la escala de características, p. Regresión logística.\n",
    "\n",
    "Las características se normalizarán utilizando **StandardScaler** de scikit-learn, que estandariza las características eliminando la media y escale para tener una variación unitaria."
   ]
  },
  {
   "cell_type": "code",
   "execution_count": 9,
   "metadata": {},
   "outputs": [
    {
     "name": "stdout",
     "output_type": "stream",
     "text": [
      "{'Logistic Regression': 0.749611197511664, 'Decision Tree': 0.7465007776049767, 'Random Forest': 0.8009331259720062}\n"
     ]
    }
   ],
   "source": [
    "# Normalizar las características del conjunto de entrenamiento y validación\n",
    "scaler = StandardScaler()\n",
    "X_train_normalized = scaler.fit_transform(X_train)\n",
    "X_valid_normalized = scaler.transform(X_valid)\n",
    "\n",
    "# Inicializar modelos sin regresión lineal y agregar bosque aleatorio\n",
    "models = {\n",
    "    'Logistic Regression': LogisticRegression(max_iter=1000, random_state=42),\n",
    "    'Decision Tree': DecisionTreeClassifier(random_state=42),\n",
    "    'Random Forest': RandomForestClassifier(random_state=42)\n",
    "}\n",
    "\n",
    "# Entrene y valide modelos con datos normalizados\n",
    "accuracy_scores_normalized = {}\n",
    "for model_name, model in models.items():\n",
    "    model.fit(X_train_normalized, y_train)\n",
    "    y_pred = model.predict(X_valid_normalized)\n",
    "    accuracy = accuracy_score(y_valid, y_pred)\n",
    "    accuracy_scores_normalized[model_name] = accuracy\n",
    "\n",
    "print(accuracy_scores_normalized)"
   ]
  },
  {
   "cell_type": "markdown",
   "metadata": {},
   "source": [
    "**Observaciones:**\n",
    "\n",
    "**- Logistic Regression:** precisión de 0.7496\n",
    "<br>\n",
    "**- Decision Tree:** precisión de 0.7465\n",
    "<br>\n",
    "**- Random Forest:** precisión de 0.8009\n",
    "\n",
    "La normalización de los datos ha mejorado ligeramente la precisión de la regresión logística, acercándola al umbral deseado de **0,75**. El Random Forest sigue siendo el modelo con mayor precisión, superando el umbral deseado con una precisión de **0,8009.**"
   ]
  },
  {
   "cell_type": "markdown",
   "metadata": {},
   "source": [
    "**Ajuste de hiperparámetros:**\n",
    "\n",
    "Como **Random Forest** sigue siendo el modelo con mayor precisión, me centraré en este modelo e intentaré mejorar aún más su precisión cambiando y ajustando los hiperparámetros.\n",
    "\n",
    "Para el ajuste de hiperparámetros, utilizaré la herramienta **GridSearchCV** que busca exhaustivamente valores de hiperparámetros específicos para encontrar la mejor combinación.\n",
    "\n",
    "**Random Forest:**\n",
    "\n",
    "- n_estimators: Número de árboles en el bosque.\n",
    "- max_ Depth: Profundidad máxima del árbol.\n",
    "- min_samples_split: número mínimo de muestras necesarias para dividir un nodo interno.\n",
    "- min_samples_leaf: número mínimo de muestras necesarias para estar en un nodo hoja."
   ]
  },
  {
   "cell_type": "code",
   "execution_count": 10,
   "metadata": {
    "scrolled": true
   },
   "outputs": [
    {
     "name": "stdout",
     "output_type": "stream",
     "text": [
      "Fitting 5 folds for each of 10 candidates, totalling 50 fits\n"
     ]
    },
    {
     "data": {
      "text/plain": [
       "{'n_estimators': 100,\n",
       " 'min_samples_split': 5,\n",
       " 'min_samples_leaf': 1,\n",
       " 'max_depth': 10}"
      ]
     },
     "execution_count": 10,
     "metadata": {},
     "output_type": "execute_result"
    }
   ],
   "source": [
    "# Definiendo la grilla de hiperparámetros para el Bosque Aleatorio\n",
    "param_distributions_forest = {\n",
    "    'n_estimators': [10, 50, 100, 150],\n",
    "    'max_depth': [None, 5, 10, 15, 20],\n",
    "    'min_samples_split': [2, 5, 10],\n",
    "    'min_samples_leaf': [1, 2, 4]\n",
    "}\n",
    "\n",
    "# Usando RandomizedSearchCV para encontrar los mejores hiperparámetros\n",
    "random_search_forest = RandomizedSearchCV(RandomForestClassifier(random_state=42), \n",
    "                                          param_distributions=param_distributions_forest, \n",
    "                                          n_iter=10, \n",
    "                                          cv=5, \n",
    "                                          verbose=1, \n",
    "                                          n_jobs=-1,\n",
    "                                          random_state=42)\n",
    "\n",
    "# Entrenando el modelo\n",
    "random_search_forest.fit(X_train_normalized, y_train)\n",
    "\n",
    "# Mejores hiperparámetros encontrados\n",
    "best_params_random_forest = random_search_forest.best_params_\n",
    "best_params_random_forest"
   ]
  },
  {
   "cell_type": "markdown",
   "metadata": {},
   "source": [
    "**Análisis del proceso de optimización de hiperparámetros:**\n",
    "\n",
    "- **n_estimators (100 árboles):** El modelo consta de 100 árboles de decisión individuales. Aumentar este número generalmente mejora el modelo, pero también puede aumentar el tiempo de cálculo.\n",
    "\n",
    "- **min_samples_split (5 muestras):** este valor garantiza que un nodo interno solo se divida si contiene al menos 5 muestras, evitando divisiones que podrían provocar un sobreajuste.\n",
    "\n",
    "- **min_samples_leaf (1 muestra):** este valor garantiza que cada nodo hoja tenga al menos una muestra, lo que puede ayudar a evitar un sobreajuste excesivo en el modelo.\n",
    "\n",
    "- **max_ Depth (10 niveles):** limitar la profundidad de los árboles a 10 niveles puede evitar que el modelo capture ruido y se sobreajuste al conjunto de entrenamiento.\n",
    "\n",
    "Debido a que el objetivo es lograr una precisión de al menos 0,75, optimizar estos hiperparámetros es esencial."
   ]
  },
  {
   "cell_type": "markdown",
   "metadata": {},
   "source": [
    "Habiendo identificado los hiperparámetros explicados anteriormente, voy a probarlos con el modelo de bosque aleatorio, luego evaluaré la calidad con el conjunto de validación y si el rendimiento es satisfactorio, procederé a la evaluación del conjunto de pruebas."
   ]
  },
  {
   "cell_type": "code",
   "execution_count": 11,
   "metadata": {},
   "outputs": [
    {
     "data": {
      "text/plain": [
       "0.8009331259720062"
      ]
     },
     "execution_count": 11,
     "metadata": {},
     "output_type": "execute_result"
    }
   ],
   "source": [
    "# Entrenando el Random Forest con hiperparámetros optimizados\n",
    "optimized_forest = RandomForestClassifier(n_estimators=100, random_state=42)  # Usaremos 100 árboles como parámetro comúnmente aceptado\n",
    "optimized_forest.fit(X_train_normalized, y_train)\n",
    "\n",
    "# Predecir en el conjunto de validación\n",
    "y_pred_forest = optimized_forest.predict(X_valid_normalized)\n",
    "\n",
    "# Calcular la precisión\n",
    "accuracy_forest = accuracy_score(y_valid, y_pred_forest)\n",
    "\n",
    "accuracy_forest"
   ]
  },
  {
   "cell_type": "markdown",
   "metadata": {},
   "source": [
    "**Observaciones:**\n",
    "\n",
    "**Optimización de hiperparámetros:** Utilicé RandomizedSearchCV, que realiza una búsqueda aleatoria para encontrar la mejor combinación de hiperparámetros. Esto es más eficiente que una búsqueda completa.\n",
    "\n",
    "**Resultados de optimización:** Los mejores hiperparámetros que encontré para Random Forest son típicos de lo que se considera bien, como usar 100 árboles.\n",
    "\n",
    "**Precisión del modelo:** Con estos ajustes, obtuve una precisión de 0,8009, que es un buen resultado y está muy por encima del umbral deseado de 0,75."
   ]
  },
  {
   "cell_type": "markdown",
   "metadata": {},
   "source": [
    "## Comprueba la calidad del modelo\n",
    "***\n",
    "\n",
    "Ahora continuaré y usaré el modelo en el conjunto de prueba para ver cómo se comporta con datos que aún no se han utilizado."
   ]
  },
  {
   "cell_type": "code",
   "execution_count": 12,
   "metadata": {},
   "outputs": [
    {
     "name": "stdout",
     "output_type": "stream",
     "text": [
      "0.7962674961119751\n"
     ]
    }
   ],
   "source": [
    "# Definir el conjunto de prueba\n",
    "X_test = df_test.drop('is_ultra', axis=1)\n",
    "y_test = df_test['is_ultra']\n",
    "# Transform test set features\n",
    "X_test_normalized = scaler.transform(X_test)\n",
    "\n",
    "# Hacer predicciones en el conjunto de prueba.\n",
    "y_pred_test = optimized_forest.predict(X_test_normalized)\n",
    "\n",
    "# Calcule la precisión en el conjunto de prueba.\n",
    "accuracy_test = accuracy_score(y_test, y_pred_test)\n",
    "print(accuracy_test)"
   ]
  },
  {
   "cell_type": "markdown",
   "metadata": {},
   "source": [
    "**Observaciones:**\n",
    "\n",
    "El resultado **(0,7963)** muestra que el modelo creado tiene una precisión del **79,63%** en el conjunto de prueba. Dado que el umbral establecido en la tarea es **(0,75)** podemos confirmar que el resultado es satisfactorio.\n",
    "\n",
    "**Conclusión:**\n",
    "\n",
    "El modelo Random Forest optimizado, cuando se aplica al conjunto de prueba, es capaz de predecir correctamente el plan (Smart o Ultra) para aproximadamente **(79,63%)** de los usuarios. Esto indica que el modelo es robusto y se generaliza bien a datos nunca antes vistos, ya que el rendimiento en el conjunto de prueba es similar al rendimiento en el conjunto de validación.\n",
    "\n",
    "Esta es una buena indicación de que el modelo es confiable y puede usarse para recomendar planes a los usuarios en función de su comportamiento."
   ]
  },
  {
   "cell_type": "markdown",
   "metadata": {},
   "source": [
    "## Prueba de cordura al modelo\n",
    "***"
   ]
  },
  {
   "cell_type": "code",
   "execution_count": 13,
   "metadata": {
    "scrolled": true
   },
   "outputs": [
    {
     "data": {
      "text/plain": [
       "0    0.693528\n",
       "1    0.306472\n",
       "Name: is_ultra, dtype: float64"
      ]
     },
     "metadata": {},
     "output_type": "display_data"
    },
    {
     "data": {
      "text/plain": [
       "0.5940902021772939"
      ]
     },
     "metadata": {},
     "output_type": "display_data"
    }
   ],
   "source": [
    "# Calcular la proporción de usuarios de cada plan en todo el conjunto de datos\n",
    "plan_proportions = df['is_ultra'].value_counts(normalize=True)\n",
    "\n",
    "# Predicción basada en proporciones para la prueba de cordura\n",
    "sanity_predictions = [1 if x < plan_proportions[1] else 0 for x in np.random.rand(len(y_test))]\n",
    "\n",
    "# Calcular la exactitud de la prueba de cordura\n",
    "sanity_accuracy = accuracy_score(y_test, sanity_predictions)\n",
    "\n",
    "display(plan_proportions)\n",
    "display(sanity_accuracy)"
   ]
  },
  {
   "cell_type": "markdown",
   "metadata": {},
   "source": [
    "¿Qué aprendemos de los resultados?\n",
    "\n",
    "1. **Proporción de usuarios en el conjunto de datos:** \n",
    "<br>\n",
    "Usuarios con el plan Smart (etiquetados como 0): 69,3528%\n",
    "<br>\n",
    "Usuarios con plan Ultra (etiquetados como 1): 30,6472%\n",
    "<br>\n",
    "<br>\n",
    "2. **Precisión de la prueba de cordura:** 59.4090%\n",
    "<br>\n",
    "**Análisis:** La proporción de usuarios en el conjunto de datos muestra que el 69% de los usuarios eligen el plan Smart, mientras que el 31% elige el plan Ultra. Esto significa que si asumimos que todos los usuarios eligen el plan Smart, nuestra predicción sería correcta el 69% de las veces.\n",
    "\n",
    "Sin embargo, nuestra prueba de cordura, que asigna aleatoriamente a los usuarios a planes Smart o Ultra según estos índices, tiene una precisión de **59.40 %**. Esta precisión es inferior al **69 %**, lo que sugiere que suponiendo que todos los usuarios eligen el plan Smart sería una estrategia más precisa.\n",
    "\n",
    "**Conclusión:** \n",
    "1. Existe un claro sesgo hacia el plan Smart en el conjunto de datos: casi el **70%** de los usuarios lo eligen.\n",
    "2. Aunque nuestra prueba de cordura se basa en una asignación aleatoria según las proporciones del plan, simplemente asumir que todos los usuarios eligen el plan Smart nos daría una mayor precisión.\n",
    "3. Sin embargo, es importante señalar que la precisión del modelo entrenado **(80%)** supera con creces tanto la estrategia de suponer que todos eligen el plan Smart **(69%)** como la precisión de la prueba de cordura. **(59.40%)**. Esto indica que el modelo ha aprendido características significativas del conjunto de datos y está haciendo predicciones más informadas que las estrategias basadas en suposiciones o asignaciones aleatorias."
   ]
  },
  {
   "cell_type": "markdown",
   "metadata": {},
   "source": [
    "## Conclusión general\n",
    "***"
   ]
  },
  {
   "cell_type": "markdown",
   "metadata": {},
   "source": [
    "1. **Distribución de datos:** el conjunto de datos proporcionado por Megaline tiene un claro sesgo hacia el plan Smart, con aproximadamente **70%** de los usuarios eligiéndolo, mientras que **30%** opta por el plan Ultra.\n",
    "<br>\n",
    "2. **Rendimiento del modelo**: el modelo Random Forest, después de ser optimizado con hiperparámetros adecuados, demostró ser el más efectivo con una precisión de alrededor del **80 %** en el conjunto de validación. Esta precisión supera el umbral establecido por Megaline de **0,75**, lo que indica que el modelo es adecuado para la tarea de clasificación en cuestión.\n",
    "<br>\n",
    "3. **Prueba de cordura:** Al realizar una prueba de cordura basada en la proporción de usuarios de cada plan, se obtuvo una precisión de aproximadamente **57,54%**. Esta cifra es inferior a la precisión del modelo entrenado, lo que respalda la eficacia del modelo desarrollado.\n",
    "<br>\n",
    "4. **Comparación con estrategias simples:** Aunque el modelo funciona bien, es esencial tener en cuenta que una estrategia simple de asumir que todos los usuarios optan por el plan Smart podría lograr una precisión de alrededor del **69 %**. Sin embargo, el modelo entrenado aún supera esta estrategia simple, lo que demuestra su capacidad para capturar patrones más complejos en los datos.\n",
    "<br>\n",
    "5. **Relevancia para Megaline:** La capacidad del modelo para predecir con precisión el plan que un usuario podría elegir en función de su comportamiento es valiosa para Megaline. Permite a la empresa dirigir estrategias de marketing y ofertas personalizadas a los usuarios, aumentando potencialmente la adopción de sus planes más premium (Ultra) y mejorando la satisfacción del cliente.\n"
   ]
  },
  {
   "cell_type": "code",
   "execution_count": null,
   "metadata": {},
   "outputs": [],
   "source": []
  }
 ],
 "metadata": {
  "ExecuteTimeLog": [
   {
    "duration": 14,
    "start_time": "2024-06-26T17:51:19.446Z"
   },
   {
    "duration": 316,
    "start_time": "2024-06-26T20:30:15.600Z"
   },
   {
    "duration": 6,
    "start_time": "2024-06-26T20:30:46.408Z"
   },
   {
    "duration": 429,
    "start_time": "2024-06-26T20:31:00.054Z"
   },
   {
    "duration": 777,
    "start_time": "2024-06-26T20:31:01.703Z"
   },
   {
    "duration": 120,
    "start_time": "2024-06-26T20:31:28.925Z"
   },
   {
    "duration": 141,
    "start_time": "2024-06-26T20:32:05.174Z"
   },
   {
    "duration": 151,
    "start_time": "2024-06-26T20:32:33.942Z"
   },
   {
    "duration": 131,
    "start_time": "2024-06-26T20:33:20.181Z"
   },
   {
    "duration": 125,
    "start_time": "2024-06-26T20:33:47.285Z"
   },
   {
    "duration": 121,
    "start_time": "2024-06-26T20:34:03.121Z"
   },
   {
    "duration": 123,
    "start_time": "2024-06-26T20:34:22.240Z"
   },
   {
    "duration": 137,
    "start_time": "2024-06-26T20:37:10.404Z"
   },
   {
    "duration": 34,
    "start_time": "2024-06-26T20:37:43.694Z"
   },
   {
    "duration": 31,
    "start_time": "2024-06-26T20:38:26.612Z"
   },
   {
    "duration": 33,
    "start_time": "2024-06-26T20:38:36.165Z"
   },
   {
    "duration": 13,
    "start_time": "2024-06-26T20:39:15.665Z"
   },
   {
    "duration": 8,
    "start_time": "2024-06-26T20:39:20.969Z"
   },
   {
    "duration": 19,
    "start_time": "2024-06-26T20:39:24.184Z"
   },
   {
    "duration": 23,
    "start_time": "2024-06-26T20:39:34.533Z"
   },
   {
    "duration": 13,
    "start_time": "2024-06-26T20:39:37.155Z"
   },
   {
    "duration": 30,
    "start_time": "2024-06-26T20:40:02.947Z"
   },
   {
    "duration": 6,
    "start_time": "2024-06-26T20:40:26.268Z"
   },
   {
    "duration": 7,
    "start_time": "2024-06-26T20:40:29.248Z"
   },
   {
    "duration": 8,
    "start_time": "2024-06-26T20:40:37.753Z"
   },
   {
    "duration": 11,
    "start_time": "2024-06-26T20:40:46.765Z"
   },
   {
    "duration": 12,
    "start_time": "2024-06-26T20:42:52.755Z"
   },
   {
    "duration": 13,
    "start_time": "2024-06-26T20:42:55.125Z"
   },
   {
    "duration": 3,
    "start_time": "2024-06-26T20:43:18.572Z"
   },
   {
    "duration": 4,
    "start_time": "2024-06-26T20:43:20.732Z"
   },
   {
    "duration": 3,
    "start_time": "2024-06-26T20:44:36.190Z"
   },
   {
    "duration": 12,
    "start_time": "2024-06-26T20:44:38.136Z"
   },
   {
    "duration": 22,
    "start_time": "2024-06-26T20:45:48.182Z"
   },
   {
    "duration": 8,
    "start_time": "2024-06-26T20:46:18.941Z"
   },
   {
    "duration": 7,
    "start_time": "2024-06-26T20:46:28.594Z"
   },
   {
    "duration": 11,
    "start_time": "2024-06-26T20:46:48.521Z"
   },
   {
    "duration": 13,
    "start_time": "2024-06-26T20:46:58.084Z"
   },
   {
    "duration": 9,
    "start_time": "2024-06-26T20:47:03.189Z"
   },
   {
    "duration": 14,
    "start_time": "2024-06-26T20:47:50.815Z"
   },
   {
    "duration": 475,
    "start_time": "2024-06-26T21:06:46.399Z"
   },
   {
    "duration": 12,
    "start_time": "2024-06-26T21:06:46.877Z"
   },
   {
    "duration": 31,
    "start_time": "2024-06-26T21:06:46.892Z"
   },
   {
    "duration": 8,
    "start_time": "2024-06-26T21:06:46.928Z"
   },
   {
    "duration": 33,
    "start_time": "2024-06-26T21:06:46.939Z"
   },
   {
    "duration": 46,
    "start_time": "2024-06-26T21:06:46.975Z"
   },
   {
    "duration": 785,
    "start_time": "2024-06-26T21:30:52.302Z"
   },
   {
    "duration": 425,
    "start_time": "2024-06-26T21:33:17.080Z"
   },
   {
    "duration": 9,
    "start_time": "2024-06-26T21:33:26.984Z"
   },
   {
    "duration": 26,
    "start_time": "2024-06-26T21:37:49.271Z"
   },
   {
    "duration": 27,
    "start_time": "2024-06-26T21:38:33.444Z"
   },
   {
    "duration": 16,
    "start_time": "2024-06-26T21:38:53.300Z"
   },
   {
    "duration": 16,
    "start_time": "2024-06-27T14:41:10.248Z"
   },
   {
    "duration": 1227,
    "start_time": "2024-06-27T14:41:28.722Z"
   },
   {
    "duration": 13,
    "start_time": "2024-06-27T14:41:29.954Z"
   },
   {
    "duration": 44,
    "start_time": "2024-06-27T14:41:29.970Z"
   },
   {
    "duration": 10,
    "start_time": "2024-06-27T14:41:30.017Z"
   },
   {
    "duration": 31,
    "start_time": "2024-06-27T14:41:30.031Z"
   },
   {
    "duration": 55,
    "start_time": "2024-06-27T14:41:30.065Z"
   },
   {
    "duration": 422,
    "start_time": "2024-06-27T14:41:30.124Z"
   },
   {
    "duration": 30,
    "start_time": "2024-06-27T14:41:39.807Z"
   },
   {
    "duration": 14,
    "start_time": "2024-06-27T14:41:44.280Z"
   },
   {
    "duration": 14,
    "start_time": "2024-06-27T14:52:00.181Z"
   },
   {
    "duration": 34,
    "start_time": "2024-06-27T15:40:10.708Z"
   },
   {
    "duration": 33,
    "start_time": "2024-06-27T15:41:15.558Z"
   },
   {
    "duration": 3,
    "start_time": "2024-06-27T15:41:52.684Z"
   },
   {
    "duration": 4,
    "start_time": "2024-06-27T15:41:55.053Z"
   },
   {
    "duration": 33,
    "start_time": "2024-06-27T15:42:00.096Z"
   },
   {
    "duration": 15,
    "start_time": "2024-06-27T15:42:22.601Z"
   },
   {
    "duration": 581,
    "start_time": "2024-06-27T15:42:25.987Z"
   },
   {
    "duration": 8,
    "start_time": "2024-06-27T15:47:07.939Z"
   },
   {
    "duration": 17,
    "start_time": "2024-06-27T15:51:31.480Z"
   },
   {
    "duration": 16,
    "start_time": "2024-06-27T15:51:39.802Z"
   },
   {
    "duration": 13,
    "start_time": "2024-06-27T15:51:47.567Z"
   },
   {
    "duration": 43,
    "start_time": "2024-06-27T15:58:10.028Z"
   },
   {
    "duration": 87,
    "start_time": "2024-06-27T15:58:23.274Z"
   },
   {
    "duration": 148,
    "start_time": "2024-06-27T15:58:37.904Z"
   },
   {
    "duration": 8,
    "start_time": "2024-06-27T16:00:14.568Z"
   },
   {
    "duration": 29,
    "start_time": "2024-06-27T16:00:44.797Z"
   },
   {
    "duration": 26,
    "start_time": "2024-06-27T16:01:45.499Z"
   },
   {
    "duration": 9673,
    "start_time": "2024-06-27T16:02:57.200Z"
   },
   {
    "duration": 76,
    "start_time": "2024-06-27T16:03:52.527Z"
   },
   {
    "duration": 9854,
    "start_time": "2024-06-27T16:04:17.942Z"
   },
   {
    "duration": 9900,
    "start_time": "2024-06-27T16:06:27.976Z"
   },
   {
    "duration": 345,
    "start_time": "2024-06-27T16:06:55.482Z"
   },
   {
    "duration": 353,
    "start_time": "2024-06-27T16:08:05.638Z"
   },
   {
    "duration": 8,
    "start_time": "2024-06-27T19:29:28.173Z"
   },
   {
    "duration": 554,
    "start_time": "2024-06-27T19:29:36.554Z"
   },
   {
    "duration": 321,
    "start_time": "2024-06-27T19:31:08.054Z"
   },
   {
    "duration": 36,
    "start_time": "2024-06-27T19:33:03.868Z"
   },
   {
    "duration": 292,
    "start_time": "2024-06-27T19:33:21.162Z"
   },
   {
    "duration": 304,
    "start_time": "2024-06-27T19:33:28.274Z"
   },
   {
    "duration": 294,
    "start_time": "2024-06-27T19:33:34.850Z"
   },
   {
    "duration": 1215,
    "start_time": "2024-06-27T19:34:34.926Z"
   },
   {
    "duration": 13,
    "start_time": "2024-06-27T19:34:36.144Z"
   },
   {
    "duration": 19,
    "start_time": "2024-06-27T19:34:36.160Z"
   },
   {
    "duration": 31,
    "start_time": "2024-06-27T19:34:36.184Z"
   },
   {
    "duration": 31,
    "start_time": "2024-06-27T19:34:36.218Z"
   },
   {
    "duration": 16,
    "start_time": "2024-06-27T19:34:36.252Z"
   },
   {
    "duration": 49,
    "start_time": "2024-06-27T19:34:36.271Z"
   },
   {
    "duration": 8,
    "start_time": "2024-06-27T19:34:36.324Z"
   },
   {
    "duration": 22,
    "start_time": "2024-06-27T19:34:36.335Z"
   },
   {
    "duration": 204,
    "start_time": "2024-06-27T19:34:36.364Z"
   },
   {
    "duration": 411,
    "start_time": "2024-06-27T19:34:36.571Z"
   },
   {
    "duration": 82,
    "start_time": "2024-06-27T19:35:10.060Z"
   },
   {
    "duration": 100,
    "start_time": "2024-06-27T19:35:16.734Z"
   },
   {
    "duration": 1226,
    "start_time": "2024-06-27T19:36:47.515Z"
   },
   {
    "duration": 12,
    "start_time": "2024-06-27T19:36:48.745Z"
   },
   {
    "duration": 20,
    "start_time": "2024-06-27T19:36:48.761Z"
   },
   {
    "duration": 35,
    "start_time": "2024-06-27T19:36:48.784Z"
   },
   {
    "duration": 30,
    "start_time": "2024-06-27T19:36:48.823Z"
   },
   {
    "duration": 14,
    "start_time": "2024-06-27T19:36:48.857Z"
   },
   {
    "duration": 14,
    "start_time": "2024-06-27T19:36:48.912Z"
   },
   {
    "duration": 8,
    "start_time": "2024-06-27T19:36:48.931Z"
   },
   {
    "duration": 17,
    "start_time": "2024-06-27T19:36:48.941Z"
   },
   {
    "duration": 136,
    "start_time": "2024-06-27T19:36:48.961Z"
   },
   {
    "duration": 332,
    "start_time": "2024-06-27T19:36:49.100Z"
   },
   {
    "duration": 436,
    "start_time": "2024-06-27T19:47:16.554Z"
   },
   {
    "duration": 27,
    "start_time": "2024-06-27T19:47:38.314Z"
   },
   {
    "duration": 5,
    "start_time": "2024-06-27T19:48:13.565Z"
   },
   {
    "duration": 28,
    "start_time": "2024-06-27T19:48:17.225Z"
   },
   {
    "duration": 19,
    "start_time": "2024-06-27T19:50:43.439Z"
   },
   {
    "duration": 6,
    "start_time": "2024-06-27T19:50:56.907Z"
   },
   {
    "duration": 14,
    "start_time": "2024-06-27T19:51:01.685Z"
   },
   {
    "duration": 17,
    "start_time": "2024-06-27T19:51:06.045Z"
   },
   {
    "duration": 18,
    "start_time": "2024-06-27T19:52:01.663Z"
   },
   {
    "duration": 17,
    "start_time": "2024-06-27T19:52:34.408Z"
   },
   {
    "duration": 18,
    "start_time": "2024-06-27T19:52:37.467Z"
   },
   {
    "duration": 18,
    "start_time": "2024-06-27T19:52:40.511Z"
   },
   {
    "duration": 21,
    "start_time": "2024-06-27T19:52:43.202Z"
   },
   {
    "duration": 18,
    "start_time": "2024-06-27T19:52:45.765Z"
   },
   {
    "duration": 317,
    "start_time": "2024-06-27T19:53:22.943Z"
   },
   {
    "duration": 1155,
    "start_time": "2024-06-27T19:53:33.952Z"
   },
   {
    "duration": 13,
    "start_time": "2024-06-27T19:53:35.111Z"
   },
   {
    "duration": 19,
    "start_time": "2024-06-27T19:53:35.127Z"
   },
   {
    "duration": 15,
    "start_time": "2024-06-27T19:53:35.150Z"
   },
   {
    "duration": 66,
    "start_time": "2024-06-27T19:53:35.169Z"
   },
   {
    "duration": 15,
    "start_time": "2024-06-27T19:53:35.237Z"
   },
   {
    "duration": 14,
    "start_time": "2024-06-27T19:53:35.255Z"
   },
   {
    "duration": 45,
    "start_time": "2024-06-27T19:53:35.272Z"
   },
   {
    "duration": 17,
    "start_time": "2024-06-27T19:53:35.320Z"
   },
   {
    "duration": 132,
    "start_time": "2024-06-27T19:53:35.342Z"
   },
   {
    "duration": 327,
    "start_time": "2024-06-27T19:53:35.477Z"
   },
   {
    "duration": 18,
    "start_time": "2024-06-27T19:53:35.813Z"
   },
   {
    "duration": 42,
    "start_time": "2024-06-27T19:55:15.766Z"
   },
   {
    "duration": 83,
    "start_time": "2024-06-27T19:55:21.173Z"
   },
   {
    "duration": 3,
    "start_time": "2024-06-27T19:55:45.796Z"
   },
   {
    "duration": 20,
    "start_time": "2024-06-27T19:57:45.636Z"
   },
   {
    "duration": 19,
    "start_time": "2024-06-27T19:57:59.886Z"
   },
   {
    "duration": 22,
    "start_time": "2024-06-27T19:58:07.908Z"
   },
   {
    "duration": 21,
    "start_time": "2024-06-27T19:58:28.566Z"
   },
   {
    "duration": 22,
    "start_time": "2024-06-27T20:00:42.573Z"
   },
   {
    "duration": 1205,
    "start_time": "2024-06-27T20:01:02.993Z"
   },
   {
    "duration": 16,
    "start_time": "2024-06-27T20:01:04.201Z"
   },
   {
    "duration": 21,
    "start_time": "2024-06-27T20:01:04.220Z"
   },
   {
    "duration": 8,
    "start_time": "2024-06-27T20:01:04.245Z"
   },
   {
    "duration": 72,
    "start_time": "2024-06-27T20:01:04.257Z"
   },
   {
    "duration": 16,
    "start_time": "2024-06-27T20:01:04.332Z"
   },
   {
    "duration": 16,
    "start_time": "2024-06-27T20:01:04.351Z"
   },
   {
    "duration": 43,
    "start_time": "2024-06-27T20:01:04.370Z"
   },
   {
    "duration": 17,
    "start_time": "2024-06-27T20:01:04.415Z"
   },
   {
    "duration": 119,
    "start_time": "2024-06-27T20:01:04.436Z"
   },
   {
    "duration": 325,
    "start_time": "2024-06-27T20:01:04.558Z"
   },
   {
    "duration": 31,
    "start_time": "2024-06-27T20:01:04.886Z"
   },
   {
    "duration": 441,
    "start_time": "2024-06-27T20:03:02.914Z"
   },
   {
    "duration": 586,
    "start_time": "2024-06-27T20:03:24.513Z"
   },
   {
    "duration": 1144,
    "start_time": "2024-06-27T20:03:36.069Z"
   },
   {
    "duration": 13,
    "start_time": "2024-06-27T20:03:37.216Z"
   },
   {
    "duration": 22,
    "start_time": "2024-06-27T20:03:37.232Z"
   },
   {
    "duration": 10,
    "start_time": "2024-06-27T20:03:37.258Z"
   },
   {
    "duration": 68,
    "start_time": "2024-06-27T20:03:37.272Z"
   },
   {
    "duration": 19,
    "start_time": "2024-06-27T20:03:37.345Z"
   },
   {
    "duration": 46,
    "start_time": "2024-06-27T20:03:37.367Z"
   },
   {
    "duration": 601,
    "start_time": "2024-06-27T20:03:37.416Z"
   },
   {
    "duration": 9,
    "start_time": "2024-06-27T20:03:38.020Z"
   },
   {
    "duration": 15,
    "start_time": "2024-06-27T20:03:38.035Z"
   },
   {
    "duration": 140,
    "start_time": "2024-06-27T20:03:38.054Z"
   },
   {
    "duration": 324,
    "start_time": "2024-06-27T20:03:38.197Z"
   },
   {
    "duration": 22,
    "start_time": "2024-06-27T20:03:38.524Z"
   },
   {
    "duration": 578,
    "start_time": "2024-06-27T20:04:30.359Z"
   },
   {
    "duration": 579,
    "start_time": "2024-06-27T20:05:01.433Z"
   },
   {
    "duration": 580,
    "start_time": "2024-06-27T20:05:06.646Z"
   },
   {
    "duration": 569,
    "start_time": "2024-06-27T20:05:58.761Z"
   },
   {
    "duration": 564,
    "start_time": "2024-06-27T20:07:03.316Z"
   },
   {
    "duration": 545,
    "start_time": "2024-06-27T20:07:32.456Z"
   },
   {
    "duration": 442,
    "start_time": "2024-06-27T20:08:30.172Z"
   },
   {
    "duration": 492,
    "start_time": "2024-06-27T20:08:37.045Z"
   },
   {
    "duration": 420,
    "start_time": "2024-06-27T20:10:02.114Z"
   },
   {
    "duration": 4,
    "start_time": "2024-06-27T20:10:24.988Z"
   },
   {
    "duration": 15608,
    "start_time": "2024-06-27T20:10:30.182Z"
   },
   {
    "duration": 521,
    "start_time": "2024-06-27T20:11:18.281Z"
   },
   {
    "duration": 26,
    "start_time": "2024-06-27T20:11:36.204Z"
   },
   {
    "duration": 29,
    "start_time": "2024-06-27T20:11:50.823Z"
   },
   {
    "duration": 26,
    "start_time": "2024-06-27T20:12:15.144Z"
   },
   {
    "duration": 36,
    "start_time": "2024-06-27T20:12:25.925Z"
   },
   {
    "duration": 5,
    "start_time": "2024-06-27T20:12:43.707Z"
   },
   {
    "duration": 17,
    "start_time": "2024-06-27T20:12:48.285Z"
   },
   {
    "duration": 1269,
    "start_time": "2024-06-27T20:26:46.698Z"
   },
   {
    "duration": 12,
    "start_time": "2024-06-27T20:26:47.971Z"
   },
   {
    "duration": 39,
    "start_time": "2024-06-27T20:26:47.985Z"
   },
   {
    "duration": 9,
    "start_time": "2024-06-27T20:26:48.030Z"
   },
   {
    "duration": 31,
    "start_time": "2024-06-27T20:26:48.043Z"
   },
   {
    "duration": 50,
    "start_time": "2024-06-27T20:26:48.077Z"
   },
   {
    "duration": 16,
    "start_time": "2024-06-27T20:26:48.131Z"
   },
   {
    "duration": 450,
    "start_time": "2024-06-27T20:26:48.149Z"
   },
   {
    "duration": 0,
    "start_time": "2024-06-27T20:26:48.602Z"
   },
   {
    "duration": 0,
    "start_time": "2024-06-27T20:26:48.604Z"
   },
   {
    "duration": 0,
    "start_time": "2024-06-27T20:26:48.612Z"
   },
   {
    "duration": 0,
    "start_time": "2024-06-27T20:26:48.614Z"
   },
   {
    "duration": 0,
    "start_time": "2024-06-27T20:26:48.617Z"
   },
   {
    "duration": 0,
    "start_time": "2024-06-27T20:26:48.619Z"
   },
   {
    "duration": 0,
    "start_time": "2024-06-27T20:26:48.621Z"
   },
   {
    "duration": 0,
    "start_time": "2024-06-27T20:26:48.623Z"
   },
   {
    "duration": 0,
    "start_time": "2024-06-27T20:26:48.624Z"
   },
   {
    "duration": 0,
    "start_time": "2024-06-27T20:26:48.627Z"
   },
   {
    "duration": 584,
    "start_time": "2024-06-27T20:27:29.768Z"
   },
   {
    "duration": 38,
    "start_time": "2024-06-27T20:27:38.991Z"
   },
   {
    "duration": 545,
    "start_time": "2024-06-27T20:27:58.963Z"
   },
   {
    "duration": 1184,
    "start_time": "2024-06-27T20:28:48.796Z"
   },
   {
    "duration": 11,
    "start_time": "2024-06-27T20:28:49.984Z"
   },
   {
    "duration": 31,
    "start_time": "2024-06-27T20:28:49.998Z"
   },
   {
    "duration": 9,
    "start_time": "2024-06-27T20:28:50.033Z"
   },
   {
    "duration": 29,
    "start_time": "2024-06-27T20:28:50.044Z"
   },
   {
    "duration": 48,
    "start_time": "2024-06-27T20:28:50.077Z"
   },
   {
    "duration": 18,
    "start_time": "2024-06-27T20:28:50.128Z"
   },
   {
    "duration": 625,
    "start_time": "2024-06-27T20:28:50.149Z"
   },
   {
    "duration": 565,
    "start_time": "2024-06-27T20:28:50.777Z"
   },
   {
    "duration": 15414,
    "start_time": "2024-06-27T20:28:51.348Z"
   },
   {
    "duration": 532,
    "start_time": "2024-06-27T20:29:06.765Z"
   },
   {
    "duration": 37,
    "start_time": "2024-06-27T20:29:07.300Z"
   },
   {
    "duration": 19,
    "start_time": "2024-06-27T20:29:07.340Z"
   },
   {
    "duration": 7,
    "start_time": "2024-06-27T20:29:07.362Z"
   },
   {
    "duration": 3,
    "start_time": "2024-06-27T20:29:07.372Z"
   },
   {
    "duration": 36,
    "start_time": "2024-06-27T20:29:07.378Z"
   },
   {
    "duration": 4,
    "start_time": "2024-06-27T20:29:07.417Z"
   },
   {
    "duration": 3,
    "start_time": "2024-06-27T20:29:07.424Z"
   },
   {
    "duration": 597,
    "start_time": "2024-06-27T20:29:43.489Z"
   },
   {
    "duration": 587,
    "start_time": "2024-06-27T20:29:51.462Z"
   },
   {
    "duration": 580,
    "start_time": "2024-06-27T20:29:58.136Z"
   },
   {
    "duration": 1217,
    "start_time": "2024-06-27T20:30:07.593Z"
   },
   {
    "duration": 12,
    "start_time": "2024-06-27T20:30:08.813Z"
   },
   {
    "duration": 21,
    "start_time": "2024-06-27T20:30:08.828Z"
   },
   {
    "duration": 9,
    "start_time": "2024-06-27T20:30:08.853Z"
   },
   {
    "duration": 69,
    "start_time": "2024-06-27T20:30:08.865Z"
   },
   {
    "duration": 14,
    "start_time": "2024-06-27T20:30:08.936Z"
   },
   {
    "duration": 15,
    "start_time": "2024-06-27T20:30:08.953Z"
   },
   {
    "duration": 641,
    "start_time": "2024-06-27T20:30:08.971Z"
   },
   {
    "duration": 545,
    "start_time": "2024-06-27T20:30:09.615Z"
   },
   {
    "duration": 15468,
    "start_time": "2024-06-27T20:30:10.166Z"
   },
   {
    "duration": 538,
    "start_time": "2024-06-27T20:30:25.638Z"
   },
   {
    "duration": 41,
    "start_time": "2024-06-27T20:30:26.179Z"
   },
   {
    "duration": 18,
    "start_time": "2024-06-27T20:30:26.224Z"
   },
   {
    "duration": 7,
    "start_time": "2024-06-27T20:30:26.245Z"
   },
   {
    "duration": 3,
    "start_time": "2024-06-27T20:30:26.256Z"
   },
   {
    "duration": 3,
    "start_time": "2024-06-27T20:30:26.263Z"
   },
   {
    "duration": 4,
    "start_time": "2024-06-27T20:30:26.312Z"
   },
   {
    "duration": 4,
    "start_time": "2024-06-27T20:30:26.319Z"
   },
   {
    "duration": 421,
    "start_time": "2024-06-27T20:31:10.743Z"
   },
   {
    "duration": 1202,
    "start_time": "2024-06-27T20:32:27.463Z"
   },
   {
    "duration": 12,
    "start_time": "2024-06-27T20:32:28.669Z"
   },
   {
    "duration": 37,
    "start_time": "2024-06-27T20:32:28.684Z"
   },
   {
    "duration": 9,
    "start_time": "2024-06-27T20:32:28.724Z"
   },
   {
    "duration": 31,
    "start_time": "2024-06-27T20:32:28.738Z"
   },
   {
    "duration": 51,
    "start_time": "2024-06-27T20:32:28.772Z"
   },
   {
    "duration": 14,
    "start_time": "2024-06-27T20:32:28.826Z"
   },
   {
    "duration": 615,
    "start_time": "2024-06-27T20:32:28.843Z"
   },
   {
    "duration": 570,
    "start_time": "2024-06-27T20:32:29.461Z"
   },
   {
    "duration": 15780,
    "start_time": "2024-06-27T20:32:30.033Z"
   },
   {
    "duration": 542,
    "start_time": "2024-06-27T20:32:45.816Z"
   },
   {
    "duration": 29,
    "start_time": "2024-06-27T20:32:46.361Z"
   },
   {
    "duration": 39,
    "start_time": "2024-06-27T20:32:46.393Z"
   },
   {
    "duration": 7,
    "start_time": "2024-06-27T20:32:46.437Z"
   },
   {
    "duration": 4,
    "start_time": "2024-06-27T20:32:46.449Z"
   },
   {
    "duration": 4,
    "start_time": "2024-06-27T20:32:46.456Z"
   },
   {
    "duration": 4,
    "start_time": "2024-06-27T20:32:46.463Z"
   },
   {
    "duration": 4,
    "start_time": "2024-06-27T20:32:46.514Z"
   },
   {
    "duration": 1226,
    "start_time": "2024-06-27T20:37:33.252Z"
   },
   {
    "duration": 11,
    "start_time": "2024-06-27T20:37:34.482Z"
   },
   {
    "duration": 29,
    "start_time": "2024-06-27T20:37:34.496Z"
   },
   {
    "duration": 9,
    "start_time": "2024-06-27T20:37:34.528Z"
   },
   {
    "duration": 29,
    "start_time": "2024-06-27T20:37:34.542Z"
   },
   {
    "duration": 48,
    "start_time": "2024-06-27T20:37:34.575Z"
   },
   {
    "duration": 16,
    "start_time": "2024-06-27T20:37:34.627Z"
   },
   {
    "duration": 626,
    "start_time": "2024-06-27T20:37:34.647Z"
   },
   {
    "duration": 573,
    "start_time": "2024-06-27T20:37:35.276Z"
   },
   {
    "duration": 15868,
    "start_time": "2024-06-27T20:37:35.853Z"
   },
   {
    "duration": 551,
    "start_time": "2024-06-27T20:37:51.724Z"
   },
   {
    "duration": 41,
    "start_time": "2024-06-27T20:37:52.277Z"
   },
   {
    "duration": 18,
    "start_time": "2024-06-27T20:37:52.320Z"
   },
   {
    "duration": 3,
    "start_time": "2024-06-27T20:37:52.343Z"
   },
   {
    "duration": 4,
    "start_time": "2024-06-27T20:37:52.349Z"
   },
   {
    "duration": 5,
    "start_time": "2024-06-27T20:37:52.356Z"
   },
   {
    "duration": 47,
    "start_time": "2024-06-27T20:37:52.365Z"
   },
   {
    "duration": 4,
    "start_time": "2024-06-27T20:37:52.416Z"
   },
   {
    "duration": 1207,
    "start_time": "2024-06-27T20:58:08.514Z"
   },
   {
    "duration": 15,
    "start_time": "2024-06-27T20:58:09.726Z"
   },
   {
    "duration": 21,
    "start_time": "2024-06-27T20:58:09.745Z"
   },
   {
    "duration": 8,
    "start_time": "2024-06-27T20:58:09.770Z"
   },
   {
    "duration": 30,
    "start_time": "2024-06-27T20:58:09.817Z"
   },
   {
    "duration": 15,
    "start_time": "2024-06-27T20:58:09.850Z"
   },
   {
    "duration": 50,
    "start_time": "2024-06-27T20:58:09.868Z"
   },
   {
    "duration": 600,
    "start_time": "2024-06-27T20:58:09.921Z"
   },
   {
    "duration": 594,
    "start_time": "2024-06-27T20:58:10.525Z"
   },
   {
    "duration": 15771,
    "start_time": "2024-06-27T20:58:11.121Z"
   },
   {
    "duration": 549,
    "start_time": "2024-06-27T20:58:26.896Z"
   },
   {
    "duration": 30,
    "start_time": "2024-06-27T20:58:27.449Z"
   },
   {
    "duration": 38,
    "start_time": "2024-06-27T20:58:27.482Z"
   },
   {
    "duration": 1206,
    "start_time": "2024-06-28T20:53:26.098Z"
   },
   {
    "duration": 22,
    "start_time": "2024-06-28T20:53:27.308Z"
   },
   {
    "duration": 21,
    "start_time": "2024-06-28T20:53:27.333Z"
   },
   {
    "duration": 9,
    "start_time": "2024-06-28T20:53:27.359Z"
   },
   {
    "duration": 74,
    "start_time": "2024-06-28T20:53:27.372Z"
   },
   {
    "duration": 15,
    "start_time": "2024-06-28T20:53:27.450Z"
   },
   {
    "duration": 18,
    "start_time": "2024-06-28T20:53:27.469Z"
   },
   {
    "duration": 629,
    "start_time": "2024-06-28T20:53:27.490Z"
   },
   {
    "duration": 576,
    "start_time": "2024-06-28T20:53:28.122Z"
   },
   {
    "duration": 16303,
    "start_time": "2024-06-28T20:53:28.702Z"
   },
   {
    "duration": 558,
    "start_time": "2024-06-28T20:53:45.011Z"
   },
   {
    "duration": 29,
    "start_time": "2024-06-28T20:53:45.572Z"
   },
   {
    "duration": 36,
    "start_time": "2024-06-28T20:53:45.605Z"
   },
   {
    "duration": 571,
    "start_time": "2024-06-28T21:14:21.044Z"
   },
   {
    "duration": 1140,
    "start_time": "2024-06-28T21:25:32.986Z"
   },
   {
    "duration": 12,
    "start_time": "2024-06-28T21:25:34.130Z"
   },
   {
    "duration": 22,
    "start_time": "2024-06-28T21:25:34.144Z"
   },
   {
    "duration": 8,
    "start_time": "2024-06-28T21:25:34.169Z"
   },
   {
    "duration": 62,
    "start_time": "2024-06-28T21:25:34.182Z"
   },
   {
    "duration": 15,
    "start_time": "2024-06-28T21:25:34.247Z"
   },
   {
    "duration": 15,
    "start_time": "2024-06-28T21:25:34.265Z"
   },
   {
    "duration": 606,
    "start_time": "2024-06-28T21:25:34.283Z"
   },
   {
    "duration": 580,
    "start_time": "2024-06-28T21:25:34.891Z"
   },
   {
    "duration": 15555,
    "start_time": "2024-06-28T21:25:35.475Z"
   },
   {
    "duration": 539,
    "start_time": "2024-06-28T21:25:51.033Z"
   },
   {
    "duration": 30,
    "start_time": "2024-06-28T21:25:51.575Z"
   },
   {
    "duration": 38,
    "start_time": "2024-06-28T21:25:51.608Z"
   },
   {
    "duration": 1162,
    "start_time": "2024-06-28T21:41:49.976Z"
   },
   {
    "duration": 13,
    "start_time": "2024-06-28T21:41:51.142Z"
   },
   {
    "duration": 19,
    "start_time": "2024-06-28T21:41:51.157Z"
   },
   {
    "duration": 8,
    "start_time": "2024-06-28T21:41:51.181Z"
   },
   {
    "duration": 65,
    "start_time": "2024-06-28T21:41:51.192Z"
   },
   {
    "duration": 17,
    "start_time": "2024-06-28T21:41:51.260Z"
   },
   {
    "duration": 15,
    "start_time": "2024-06-28T21:41:51.280Z"
   },
   {
    "duration": 632,
    "start_time": "2024-06-28T21:41:51.298Z"
   },
   {
    "duration": 585,
    "start_time": "2024-06-28T21:41:51.933Z"
   },
   {
    "duration": 15721,
    "start_time": "2024-06-28T21:41:52.530Z"
   },
   {
    "duration": 547,
    "start_time": "2024-06-28T21:42:08.254Z"
   },
   {
    "duration": 42,
    "start_time": "2024-06-28T21:42:08.804Z"
   },
   {
    "duration": 19,
    "start_time": "2024-06-28T21:42:08.849Z"
   },
   {
    "duration": 1236,
    "start_time": "2024-06-28T23:05:36.332Z"
   },
   {
    "duration": 12,
    "start_time": "2024-06-28T23:05:37.573Z"
   },
   {
    "duration": 20,
    "start_time": "2024-06-28T23:05:37.588Z"
   },
   {
    "duration": 24,
    "start_time": "2024-06-28T23:05:37.612Z"
   },
   {
    "duration": 29,
    "start_time": "2024-06-28T23:05:37.642Z"
   },
   {
    "duration": 15,
    "start_time": "2024-06-28T23:05:37.674Z"
   },
   {
    "duration": 52,
    "start_time": "2024-06-28T23:05:37.692Z"
   },
   {
    "duration": 592,
    "start_time": "2024-06-28T23:05:37.750Z"
   },
   {
    "duration": 568,
    "start_time": "2024-06-28T23:05:38.344Z"
   },
   {
    "duration": 15635,
    "start_time": "2024-06-28T23:05:38.916Z"
   },
   {
    "duration": 549,
    "start_time": "2024-06-28T23:05:54.555Z"
   },
   {
    "duration": 41,
    "start_time": "2024-06-28T23:05:55.107Z"
   },
   {
    "duration": 17,
    "start_time": "2024-06-28T23:05:55.151Z"
   },
   {
    "duration": 1179,
    "start_time": "2024-06-28T23:06:39.682Z"
   },
   {
    "duration": 14,
    "start_time": "2024-06-28T23:06:40.865Z"
   },
   {
    "duration": 24,
    "start_time": "2024-06-28T23:06:40.882Z"
   },
   {
    "duration": 8,
    "start_time": "2024-06-28T23:06:40.933Z"
   },
   {
    "duration": 31,
    "start_time": "2024-06-28T23:06:40.944Z"
   },
   {
    "duration": 15,
    "start_time": "2024-06-28T23:06:40.978Z"
   },
   {
    "duration": 14,
    "start_time": "2024-06-28T23:06:41.032Z"
   },
   {
    "duration": 596,
    "start_time": "2024-06-28T23:06:41.049Z"
   },
   {
    "duration": 605,
    "start_time": "2024-06-28T23:06:41.648Z"
   },
   {
    "duration": 15573,
    "start_time": "2024-06-28T23:06:42.257Z"
   },
   {
    "duration": 570,
    "start_time": "2024-06-28T23:06:57.833Z"
   },
   {
    "duration": 58,
    "start_time": "2024-06-28T23:06:58.407Z"
   },
   {
    "duration": 19,
    "start_time": "2024-06-28T23:06:58.468Z"
   }
  ],
  "kernelspec": {
   "display_name": "Python 3 (ipykernel)",
   "language": "python",
   "name": "python3"
  },
  "language_info": {
   "codemirror_mode": {
    "name": "ipython",
    "version": 3
   },
   "file_extension": ".py",
   "mimetype": "text/x-python",
   "name": "python",
   "nbconvert_exporter": "python",
   "pygments_lexer": "ipython3",
   "version": "3.9.19"
  },
  "toc": {
   "base_numbering": 1,
   "nav_menu": {},
   "number_sections": true,
   "sideBar": true,
   "skip_h1_title": true,
   "title_cell": "Table of Contents",
   "title_sidebar": "Contents",
   "toc_cell": false,
   "toc_position": {
    "height": "calc(100% - 180px)",
    "left": "10px",
    "top": "150px",
    "width": "165px"
   },
   "toc_section_display": true,
   "toc_window_display": false
  }
 },
 "nbformat": 4,
 "nbformat_minor": 2
}
